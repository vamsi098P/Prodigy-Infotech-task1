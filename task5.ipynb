{
  "nbformat": 4,
  "nbformat_minor": 0,
  "metadata": {
    "colab": {
      "provenance": [],
      "authorship_tag": "ABX9TyNdBm40uvLB3WbAVtBlSOeH",
      "include_colab_link": true
    },
    "kernelspec": {
      "name": "python3",
      "display_name": "Python 3"
    },
    "language_info": {
      "name": "python"
    }
  },
  "cells": [
    {
      "cell_type": "markdown",
      "metadata": {
        "id": "view-in-github",
        "colab_type": "text"
      },
      "source": [
        "<a href=\"https://colab.research.google.com/github/vamsi098P/Prodigy-Infotech-task1/blob/main/task5.ipynb\" target=\"_parent\"><img src=\"https://colab.research.google.com/assets/colab-badge.svg\" alt=\"Open In Colab\"/></a>"
      ]
    },
    {
      "cell_type": "code",
      "execution_count": null,
      "metadata": {
        "colab": {
          "base_uri": "https://localhost:8080/"
        },
        "id": "VKpdecGL5Qq6",
        "outputId": "12519c77-329d-40bf-c194-9a7be38d2f6a"
      },
      "outputs": [
        {
          "output_type": "stream",
          "name": "stdout",
          "text": [
            "Collecting scapy\n",
            "  Downloading scapy-2.6.1-py3-none-any.whl.metadata (5.6 kB)\n",
            "Downloading scapy-2.6.1-py3-none-any.whl (2.4 MB)\n",
            "\u001b[2K   \u001b[90m━━━━━━━━━━━━━━━━━━━━━━━━━━━━━━━━━━━━━━━━\u001b[0m \u001b[32m2.4/2.4 MB\u001b[0m \u001b[31m5.6 MB/s\u001b[0m eta \u001b[36m0:00:00\u001b[0m\n",
            "\u001b[?25hInstalling collected packages: scapy\n",
            "Successfully installed scapy-2.6.1\n"
          ]
        }
      ],
      "source": [
        "pip install scapy\n"
      ]
    },
    {
      "cell_type": "code",
      "source": [
        "from scapy.all import sniff, IP, TCP, UDP, Raw\n"
      ],
      "metadata": {
        "id": "WllRmCXS5cCN"
      },
      "execution_count": null,
      "outputs": []
    },
    {
      "cell_type": "code",
      "source": [
        "def packet_handler(packet):\n",
        "    if IP in packet:\n",
        "        ip_layer = packet[IP]\n",
        "        print(f\"\\n[+] IP Packet: {ip_layer.src} -> {ip_layer.dst}\")\n",
        "\n",
        "        # Protocol\n",
        "        if TCP in packet:\n",
        "            print(\"Protocol: TCP\")\n",
        "            transport_layer = packet[TCP]\n",
        "        elif UDP in packet:\n",
        "            print(\"Protocol: UDP\")\n",
        "            transport_layer = packet[UDP]\n",
        "        else:\n",
        "            print(\"Protocol: Other\")\n",
        "            transport_layer = None\n",
        "\n",
        "        # Ports (if available)\n",
        "        if transport_layer:\n",
        "            print(f\"Source Port: {transport_layer.sport}, Destination Port: {transport_layer.dport}\")\n",
        "\n",
        "        # Payload (Raw data)\n",
        "        if Raw in packet:\n",
        "            data = packet[Raw].load\n",
        "            print(f\"Payload Data: {data[:50]}...\")  # Only show first 50 bytes\n"
      ],
      "metadata": {
        "id": "eqYEd6go5iBp"
      },
      "execution_count": null,
      "outputs": []
    },
    {
      "cell_type": "code",
      "source": [
        "print(\"[*] Starting packet capture. Press Ctrl+C to stop...\\n\")\n",
        "sniff(prn=packet_handler, store=0)\n"
      ],
      "metadata": {
        "colab": {
          "base_uri": "https://localhost:8080/"
        },
        "id": "-P1mWIut6dcU",
        "outputId": "9d7969d6-7036-428c-9414-436bbc8a343e"
      },
      "execution_count": null,
      "outputs": [
        {
          "output_type": "stream",
          "name": "stdout",
          "text": [
            "[*] Starting packet capture. Press Ctrl+C to stop...\n",
            "\n",
            "\n",
            "[+] IP Packet: 172.28.0.12 -> 172.28.0.1\n",
            "Protocol: TCP\n",
            "Source Port: 8080, Destination Port: 35508\n",
            "Payload Data: b'\\x81~\\x02\\xdf{\"header\": {\"msg_id\": \"5cdb5349-99c125d8019796'...\n",
            "\n",
            "[+] IP Packet: 172.28.0.1 -> 172.28.0.12\n",
            "Protocol: TCP\n",
            "Source Port: 35508, Destination Port: 8080\n",
            "\n",
            "[+] IP Packet: 172.28.0.12 -> 172.28.0.1\n",
            "Protocol: TCP\n",
            "Source Port: 8080, Destination Port: 35508\n",
            "Payload Data: b'\\x81~\\x03\\xc4{\"header\": {\"msg_id\": \"5cdb5349-99c125d8019796'...\n",
            "\n",
            "[+] IP Packet: 172.28.0.1 -> 172.28.0.12\n",
            "Protocol: TCP\n",
            "Source Port: 35508, Destination Port: 8080\n",
            "\n",
            "[+] IP Packet: 172.28.0.1 -> 172.28.0.12\n",
            "Protocol: TCP\n",
            "Source Port: 46140, Destination Port: 8080\n",
            "Payload Data: b'\\xc1\\x8c\\xac+\\xd1\\xe4n[\\xf7\\x85\\x87\\xfbM\\x8d\\xc4s\\xda\\xe4'...\n",
            "\n",
            "[+] IP Packet: 172.28.0.12 -> 172.28.0.1\n",
            "Protocol: TCP\n",
            "Source Port: 8080, Destination Port: 46140\n",
            "\n",
            "[+] IP Packet: 172.28.0.12 -> 172.28.0.1\n",
            "Protocol: TCP\n",
            "Source Port: 8080, Destination Port: 35508\n",
            "Payload Data: b'\\x81~\\x04\\xb6{\"header\": {\"msg_id\": \"5cdb5349-99c125d8019796'...\n",
            "\n",
            "[+] IP Packet: 172.28.0.1 -> 172.28.0.12\n",
            "Protocol: TCP\n",
            "Source Port: 35508, Destination Port: 8080\n",
            "\n",
            "[+] IP Packet: 172.28.0.12 -> 172.28.0.1\n",
            "Protocol: TCP\n",
            "Source Port: 8080, Destination Port: 35508\n",
            "Payload Data: b'\\x81~\\x03\\x8c{\"header\": {\"msg_id\": \"5cdb5349-99c125d8019796'...\n",
            "\n",
            "[+] IP Packet: 172.28.0.1 -> 172.28.0.12\n",
            "Protocol: TCP\n",
            "Source Port: 35508, Destination Port: 8080\n",
            "\n",
            "[+] IP Packet: 172.28.0.12 -> 172.28.0.1\n",
            "Protocol: TCP\n",
            "Source Port: 8080, Destination Port: 35508\n",
            "Payload Data: b'\\x81~\\x03\\x8c{\"header\": {\"msg_id\": \"5cdb5349-99c125d8019796'...\n",
            "\n",
            "[+] IP Packet: 172.28.0.1 -> 172.28.0.12\n",
            "Protocol: TCP\n",
            "Source Port: 35508, Destination Port: 8080\n",
            "\n",
            "[+] IP Packet: 172.28.0.12 -> 172.28.0.1\n",
            "Protocol: TCP\n",
            "Source Port: 8080, Destination Port: 46140\n",
            "Payload Data: b'\\xc1~\\x02\\xf2\\xbc\\x98]o\\xda0\\x14\\x86\\xffJ\\xe5kh\\x12\\x07H\\xc2\\xed\\xa4i\\x936i\\xdav7O\\x91q\\x0e\\x8d\\x85\\xb1]\\x7f\\xa01\\xd4\\xff>%\\xe9(I\\xaa\\x96'...\n",
            "\n",
            "[+] IP Packet: 172.28.0.1 -> 172.28.0.12\n",
            "Protocol: TCP\n",
            "Source Port: 46140, Destination Port: 8080\n",
            "\n",
            "[+] IP Packet: 172.28.0.12 -> 172.28.0.1\n",
            "Protocol: TCP\n",
            "Source Port: 8080, Destination Port: 46140\n",
            "Payload Data: b'\\xc1~\\x00\\xadL\\xce1\\x0f\\x820\\x10\\x86\\xe1\\xbfb\\xbe\\xb9\\x0e\\xe2DWW\\xdd\\xdc<CJ{Q\\x12\\xb9B{\\x0c\\x84\\xf0\\xdf\\r\\x12\\x0cC\\x93K\\xfa\\xe4\\xee\\x9d\\x10\\x9c:'...\n",
            "\n",
            "[+] IP Packet: 172.28.0.1 -> 172.28.0.12\n",
            "Protocol: TCP\n",
            "Source Port: 46140, Destination Port: 8080\n",
            "\n",
            "[+] IP Packet: 172.28.0.12 -> 172.28.0.1\n",
            "Protocol: TCP\n",
            "Source Port: 8080, Destination Port: 35508\n",
            "Payload Data: b'\\x81~\\x06\\xaa{\"header\": {\"msg_id\": \"5cdb5349-99c125d8019796'...\n",
            "\n",
            "[+] IP Packet: 172.28.0.1 -> 172.28.0.12\n",
            "Protocol: TCP\n",
            "Source Port: 35508, Destination Port: 8080\n",
            "\n",
            "[+] IP Packet: 172.28.0.12 -> 172.28.0.1\n",
            "Protocol: TCP\n",
            "Source Port: 8080, Destination Port: 35508\n",
            "Payload Data: b'\\x81~\\x03\\x8c{\"header\": {\"msg_id\": \"5cdb5349-99c125d8019796'...\n",
            "\n",
            "[+] IP Packet: 172.28.0.1 -> 172.28.0.12\n",
            "Protocol: TCP\n",
            "Source Port: 35508, Destination Port: 8080\n",
            "\n",
            "[+] IP Packet: 172.28.0.12 -> 172.28.0.1\n",
            "Protocol: TCP\n",
            "Source Port: 8080, Destination Port: 35508\n",
            "Payload Data: b'\\x81~\\x03\\x8c{\"header\": {\"msg_id\": \"5cdb5349-99c125d8019796'...\n",
            "\n",
            "[+] IP Packet: 172.28.0.1 -> 172.28.0.12\n",
            "Protocol: TCP\n",
            "Source Port: 35508, Destination Port: 8080\n",
            "\n",
            "[+] IP Packet: 172.28.0.12 -> 172.28.0.1\n",
            "Protocol: TCP\n",
            "Source Port: 8080, Destination Port: 35508\n",
            "Payload Data: b'\\x81~\\x03\\x8c{\"header\": {\"msg_id\": \"5cdb5349-99c125d8019796'...\n",
            "\n",
            "[+] IP Packet: 172.28.0.1 -> 172.28.0.12\n",
            "Protocol: TCP\n",
            "Source Port: 35508, Destination Port: 8080\n",
            "\n",
            "[+] IP Packet: 172.28.0.12 -> 172.28.0.1\n",
            "Protocol: TCP\n",
            "Source Port: 8080, Destination Port: 35508\n",
            "Payload Data: b'\\x81~\\x03\\x8c{\"header\": {\"msg_id\": \"5cdb5349-99c125d8019796'...\n",
            "\n",
            "[+] IP Packet: 172.28.0.1 -> 172.28.0.12\n",
            "Protocol: TCP\n",
            "Source Port: 35508, Destination Port: 8080\n",
            "\n",
            "[+] IP Packet: 172.28.0.12 -> 172.28.0.1\n",
            "Protocol: TCP\n",
            "Source Port: 8080, Destination Port: 35508\n",
            "Payload Data: b'\\x81~\\x03\\x8c{\"header\": {\"msg_id\": \"5cdb5349-99c125d8019796'...\n",
            "\n",
            "[+] IP Packet: 172.28.0.1 -> 172.28.0.12\n",
            "Protocol: TCP\n",
            "Source Port: 35508, Destination Port: 8080\n",
            "\n",
            "[+] IP Packet: 172.28.0.12 -> 172.28.0.1\n",
            "Protocol: TCP\n",
            "Source Port: 8080, Destination Port: 35508\n",
            "Payload Data: b'\\x81~\\x03\\x8c{\"header\": {\"msg_id\": \"5cdb5349-99c125d8019796'...\n",
            "\n",
            "[+] IP Packet: 172.28.0.1 -> 172.28.0.12\n",
            "Protocol: TCP\n",
            "Source Port: 35508, Destination Port: 8080\n",
            "\n",
            "[+] IP Packet: 172.28.0.12 -> 172.28.0.1\n",
            "Protocol: TCP\n",
            "Source Port: 8080, Destination Port: 35508\n",
            "Payload Data: b'\\x81~\\x03\\x8c{\"header\": {\"msg_id\": \"5cdb5349-99c125d8019796'...\n",
            "\n",
            "[+] IP Packet: 172.28.0.1 -> 172.28.0.12\n",
            "Protocol: TCP\n",
            "Source Port: 35508, Destination Port: 8080\n",
            "\n",
            "[+] IP Packet: 172.28.0.12 -> 172.28.0.1\n",
            "Protocol: TCP\n",
            "Source Port: 8080, Destination Port: 35508\n",
            "Payload Data: b'\\x81~\\x03\\x8c{\"header\": {\"msg_id\": \"5cdb5349-99c125d8019796'...\n",
            "\n",
            "[+] IP Packet: 172.28.0.1 -> 172.28.0.12\n",
            "Protocol: TCP\n",
            "Source Port: 35508, Destination Port: 8080\n",
            "\n",
            "[+] IP Packet: 172.28.0.1 -> 172.28.0.12\n",
            "Protocol: TCP\n",
            "Source Port: 38124, Destination Port: 8080\n",
            "\n",
            "[+] IP Packet: 172.28.0.12 -> 172.28.0.1\n",
            "Protocol: TCP\n",
            "Source Port: 8080, Destination Port: 38124\n",
            "\n",
            "[+] IP Packet: 172.28.0.1 -> 172.28.0.12\n",
            "Protocol: TCP\n",
            "Source Port: 38124, Destination Port: 8080\n",
            "\n",
            "[+] IP Packet: 172.28.0.1 -> 172.28.0.12\n",
            "Protocol: TCP\n",
            "Source Port: 38124, Destination Port: 8080\n",
            "Payload Data: b'POST /api/kernels/e4ae48d5-68bd-4986-8f67-ae8e61dd'...\n",
            "\n",
            "[+] IP Packet: 172.28.0.12 -> 172.28.0.1\n",
            "Protocol: TCP\n",
            "Source Port: 8080, Destination Port: 38124\n"
          ]
        },
        {
          "output_type": "execute_result",
          "data": {
            "text/plain": [
              "<Sniffed: TCP:0 UDP:0 ICMP:0 Other:0>"
            ]
          },
          "metadata": {},
          "execution_count": 6
        }
      ]
    },
    {
      "cell_type": "code",
      "metadata": {
        "colab": {
          "base_uri": "https://localhost:8080/"
        },
        "id": "70456f5b",
        "outputId": "c918ddca-b27e-48e4-da14-49bfc6bf7878"
      },
      "source": [
        "!apt-get install -y libpcap-dev"
      ],
      "execution_count": null,
      "outputs": [
        {
          "output_type": "stream",
          "name": "stdout",
          "text": [
            "Reading package lists... Done\n",
            "Building dependency tree... Done\n",
            "Reading state information... Done\n",
            "The following additional packages will be installed:\n",
            "  libdbus-1-dev libpcap0.8 libpcap0.8-dev\n",
            "The following NEW packages will be installed:\n",
            "  libdbus-1-dev libpcap-dev libpcap0.8 libpcap0.8-dev\n",
            "0 upgraded, 4 newly installed, 0 to remove and 35 not upgraded.\n",
            "Need to get 607 kB of archives.\n",
            "After this operation, 2,238 kB of additional disk space will be used.\n",
            "Get:1 http://archive.ubuntu.com/ubuntu jammy-updates/main amd64 libpcap0.8 amd64 1.10.1-4ubuntu1.22.04.1 [145 kB]\n",
            "Get:2 http://archive.ubuntu.com/ubuntu jammy-updates/main amd64 libdbus-1-dev amd64 1.12.20-2ubuntu4.1 [188 kB]\n",
            "Get:3 http://archive.ubuntu.com/ubuntu jammy-updates/main amd64 libpcap0.8-dev amd64 1.10.1-4ubuntu1.22.04.1 [270 kB]\n",
            "Get:4 http://archive.ubuntu.com/ubuntu jammy-updates/main amd64 libpcap-dev amd64 1.10.1-4ubuntu1.22.04.1 [3,326 B]\n",
            "Fetched 607 kB in 2s (334 kB/s)\n",
            "Selecting previously unselected package libpcap0.8:amd64.\n",
            "(Reading database ... 126284 files and directories currently installed.)\n",
            "Preparing to unpack .../libpcap0.8_1.10.1-4ubuntu1.22.04.1_amd64.deb ...\n",
            "Unpacking libpcap0.8:amd64 (1.10.1-4ubuntu1.22.04.1) ...\n",
            "Selecting previously unselected package libdbus-1-dev:amd64.\n",
            "Preparing to unpack .../libdbus-1-dev_1.12.20-2ubuntu4.1_amd64.deb ...\n",
            "Unpacking libdbus-1-dev:amd64 (1.12.20-2ubuntu4.1) ...\n",
            "Selecting previously unselected package libpcap0.8-dev:amd64.\n",
            "Preparing to unpack .../libpcap0.8-dev_1.10.1-4ubuntu1.22.04.1_amd64.deb ...\n",
            "Unpacking libpcap0.8-dev:amd64 (1.10.1-4ubuntu1.22.04.1) ...\n",
            "Selecting previously unselected package libpcap-dev:amd64.\n",
            "Preparing to unpack .../libpcap-dev_1.10.1-4ubuntu1.22.04.1_amd64.deb ...\n",
            "Unpacking libpcap-dev:amd64 (1.10.1-4ubuntu1.22.04.1) ...\n",
            "Setting up libpcap0.8:amd64 (1.10.1-4ubuntu1.22.04.1) ...\n",
            "Setting up libdbus-1-dev:amd64 (1.12.20-2ubuntu4.1) ...\n",
            "Setting up libpcap0.8-dev:amd64 (1.10.1-4ubuntu1.22.04.1) ...\n",
            "Setting up libpcap-dev:amd64 (1.10.1-4ubuntu1.22.04.1) ...\n",
            "Processing triggers for man-db (2.10.2-1) ...\n",
            "Processing triggers for libc-bin (2.35-0ubuntu3.8) ...\n",
            "/sbin/ldconfig.real: /usr/local/lib/libtbbbind_2_0.so.3 is not a symbolic link\n",
            "\n",
            "/sbin/ldconfig.real: /usr/local/lib/libtbbmalloc.so.2 is not a symbolic link\n",
            "\n",
            "/sbin/ldconfig.real: /usr/local/lib/libumf.so.0 is not a symbolic link\n",
            "\n",
            "/sbin/ldconfig.real: /usr/local/lib/libtbb.so.12 is not a symbolic link\n",
            "\n",
            "/sbin/ldconfig.real: /usr/local/lib/libtcm.so.1 is not a symbolic link\n",
            "\n",
            "/sbin/ldconfig.real: /usr/local/lib/libur_adapter_opencl.so.0 is not a symbolic link\n",
            "\n",
            "/sbin/ldconfig.real: /usr/local/lib/libur_adapter_level_zero_v2.so.0 is not a symbolic link\n",
            "\n",
            "/sbin/ldconfig.real: /usr/local/lib/libtcm_debug.so.1 is not a symbolic link\n",
            "\n",
            "/sbin/ldconfig.real: /usr/local/lib/libtbbbind.so.3 is not a symbolic link\n",
            "\n",
            "/sbin/ldconfig.real: /usr/local/lib/libhwloc.so.15 is not a symbolic link\n",
            "\n",
            "/sbin/ldconfig.real: /usr/local/lib/libtbbbind_2_5.so.3 is not a symbolic link\n",
            "\n",
            "/sbin/ldconfig.real: /usr/local/lib/libur_loader.so.0 is not a symbolic link\n",
            "\n",
            "/sbin/ldconfig.real: /usr/local/lib/libur_adapter_level_zero.so.0 is not a symbolic link\n",
            "\n",
            "/sbin/ldconfig.real: /usr/local/lib/libtbbmalloc_proxy.so.2 is not a symbolic link\n",
            "\n"
          ]
        }
      ]
    }
  ]
}